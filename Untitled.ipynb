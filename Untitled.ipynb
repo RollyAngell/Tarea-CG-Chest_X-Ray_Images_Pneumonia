{
 "cells": [
  {
   "cell_type": "code",
   "execution_count": 2,
   "metadata": {},
   "outputs": [],
   "source": [
    "import torchvision\n",
    "from torchvision import transforms,models,datasets\n",
    "import torch\n",
    "import numpy as np\n",
    "import matplotlib.pyplot as plt\n",
    "import torch.optim as optim\n",
    "import torch.nn as nn\n",
    "from collections import OrderedDict\n",
    "from PIL import Image\n",
    "import seaborn as sns"
   ]
  },
  {
   "cell_type": "code",
   "execution_count": 3,
   "metadata": {},
   "outputs": [],
   "source": [
    "data_dir = {\n",
    "            'train': 'D:/RollyAngell/Kaggle Competitions/chest_xray/test',\n",
    "            'test':  'D:/RollyAngell/Kaggle Competitions/chest_xray/test',\n",
    "            'valid': 'D:/RollyAngell/Kaggle Competitions/chest_xray/val',\n",
    "            }"
   ]
  },
  {
   "cell_type": "code",
   "execution_count": 4,
   "metadata": {},
   "outputs": [],
   "source": [
    "batch_size = 32\n",
    "#batch_size = 64\n",
    "\n",
    "data_transforms = {\n",
    "            'train': transforms.Compose([\n",
    "                        transforms.Resize((224, 224)),\n",
    "                        transforms.CenterCrop(224),\n",
    "                        transforms.RandomHorizontalFlip(), # randomly flip and rotate\n",
    "                        transforms.RandomRotation(10),\n",
    "                        transforms.ToTensor(),\n",
    "                        transforms.Normalize((0.485, 0.456, 0.406), (0.229, 0.224, 0.225)),\n",
    "                    ]),\n",
    "    \n",
    "            'test': transforms.Compose([\n",
    "                        transforms.Resize((224,224)),\n",
    "                        transforms.ToTensor(),\n",
    "                        transforms.Normalize((0.485, 0.456, 0.406), (0.229, 0.224, 0.225)),\n",
    "                    ]),\n",
    "    \n",
    "            'valid': transforms.Compose([\n",
    "                        transforms.Resize((224,224)),\n",
    "                        transforms.ToTensor(),\n",
    "                        transforms.Normalize((0.485, 0.456, 0.406), (0.229, 0.224, 0.225)),\n",
    "                    ])\n",
    "            }"
   ]
  },
  {
   "cell_type": "code",
   "execution_count": 5,
   "metadata": {},
   "outputs": [
    {
     "data": {
      "text/plain": [
       "{'train': Compose(\n",
       "     Resize(size=(224, 224), interpolation=PIL.Image.BILINEAR)\n",
       "     CenterCrop(size=(224, 224))\n",
       "     RandomHorizontalFlip(p=0.5)\n",
       "     RandomRotation(degrees=(-10, 10), resample=False, expand=False)\n",
       "     ToTensor()\n",
       "     Normalize(mean=(0.485, 0.456, 0.406), std=(0.229, 0.224, 0.225))\n",
       " ), 'test': Compose(\n",
       "     Resize(size=(224, 224), interpolation=PIL.Image.BILINEAR)\n",
       "     ToTensor()\n",
       "     Normalize(mean=(0.485, 0.456, 0.406), std=(0.229, 0.224, 0.225))\n",
       " ), 'valid': Compose(\n",
       "     Resize(size=(224, 224), interpolation=PIL.Image.BILINEAR)\n",
       "     ToTensor()\n",
       "     Normalize(mean=(0.485, 0.456, 0.406), std=(0.229, 0.224, 0.225))\n",
       " )}"
      ]
     },
     "execution_count": 5,
     "metadata": {},
     "output_type": "execute_result"
    }
   ],
   "source": [
    "data_transforms"
   ]
  },
  {
   "cell_type": "code",
   "execution_count": 6,
   "metadata": {},
   "outputs": [],
   "source": [
    "data_set={\n",
    "        'train': torchvision.datasets.ImageFolder(data_dir['train'] ,data_transforms['train']),\n",
    "        'test': torchvision.datasets.ImageFolder(data_dir['test'], data_transforms['test']),\n",
    "        'valid': torchvision.datasets.ImageFolder(data_dir['valid'], data_transforms['valid']),\n",
    "         }"
   ]
  },
  {
   "cell_type": "code",
   "execution_count": 7,
   "metadata": {},
   "outputs": [
    {
     "data": {
      "text/plain": [
       "{'train': Dataset ImageFolder\n",
       "     Number of datapoints: 624\n",
       "     Root Location: D:/RollyAngell/Kaggle Competitions/chest_xray/test\n",
       "     Transforms (if any): Compose(\n",
       "                              Resize(size=(224, 224), interpolation=PIL.Image.BILINEAR)\n",
       "                              CenterCrop(size=(224, 224))\n",
       "                              RandomHorizontalFlip(p=0.5)\n",
       "                              RandomRotation(degrees=(-10, 10), resample=False, expand=False)\n",
       "                              ToTensor()\n",
       "                              Normalize(mean=(0.485, 0.456, 0.406), std=(0.229, 0.224, 0.225))\n",
       "                          )\n",
       "     Target Transforms (if any): None, 'test': Dataset ImageFolder\n",
       "     Number of datapoints: 624\n",
       "     Root Location: D:/RollyAngell/Kaggle Competitions/chest_xray/test\n",
       "     Transforms (if any): Compose(\n",
       "                              Resize(size=(224, 224), interpolation=PIL.Image.BILINEAR)\n",
       "                              ToTensor()\n",
       "                              Normalize(mean=(0.485, 0.456, 0.406), std=(0.229, 0.224, 0.225))\n",
       "                          )\n",
       "     Target Transforms (if any): None, 'valid': Dataset ImageFolder\n",
       "     Number of datapoints: 16\n",
       "     Root Location: D:/RollyAngell/Kaggle Competitions/chest_xray/val\n",
       "     Transforms (if any): Compose(\n",
       "                              Resize(size=(224, 224), interpolation=PIL.Image.BILINEAR)\n",
       "                              ToTensor()\n",
       "                              Normalize(mean=(0.485, 0.456, 0.406), std=(0.229, 0.224, 0.225))\n",
       "                          )\n",
       "     Target Transforms (if any): None}"
      ]
     },
     "execution_count": 7,
     "metadata": {},
     "output_type": "execute_result"
    }
   ],
   "source": [
    "data_set"
   ]
  },
  {
   "cell_type": "code",
   "execution_count": 8,
   "metadata": {},
   "outputs": [],
   "source": [
    "data_loader={\n",
    "        'train': torch.utils.data.DataLoader(data_set['train'], batch_size=batch_size,shuffle=True),\n",
    "        'test': torch.utils.data.DataLoader(data_set['test'], batch_size=batch_size,shuffle=True),\n",
    "        'valid': torch.utils.data.DataLoader(data_set['test'], batch_size=batch_size,shuffle=True),\n",
    "        }"
   ]
  },
  {
   "cell_type": "code",
   "execution_count": 9,
   "metadata": {},
   "outputs": [
    {
     "data": {
      "text/plain": [
       "{'train': <torch.utils.data.dataloader.DataLoader at 0x13c15fa9978>,\n",
       " 'test': <torch.utils.data.dataloader.DataLoader at 0x13c15fa9860>,\n",
       " 'valid': <torch.utils.data.dataloader.DataLoader at 0x13c15fa9b38>}"
      ]
     },
     "execution_count": 9,
     "metadata": {},
     "output_type": "execute_result"
    }
   ],
   "source": [
    "data_loader"
   ]
  },
  {
   "cell_type": "code",
   "execution_count": 10,
   "metadata": {},
   "outputs": [],
   "source": [
    "_ = data_set['valid'].class_to_idx\n",
    "cat_to_name = {_[i]: i for i in list(_.keys())}"
   ]
  },
  {
   "cell_type": "code",
   "execution_count": 11,
   "metadata": {},
   "outputs": [
    {
     "name": "stderr",
     "output_type": "stream",
     "text": [
      "Clipping input data to the valid range for imshow with RGB data ([0..1] for floats or [0..255] for integers).\n",
      "Clipping input data to the valid range for imshow with RGB data ([0..1] for floats or [0..255] for integers).\n"
     ]
    },
    {
     "data": {
      "image/png": "[encoded data removed]",
      "text/plain": [
       "<Figure size 144x288 with 2 Axes>"
      ]
     },
     "metadata": {},
     "output_type": "display_data"
    }
   ],
   "source": [
    "def showimage(data_loader, number_images, cat_to_name):\n",
    "    dataiter = iter(data_loader)\n",
    "    images, labels = dataiter.next()\n",
    "    images = images.numpy() # convert images to numpy for display\n",
    "    # plot the images in the batch, along with the corresponding labels\n",
    "    fig = plt.figure(figsize=(number_images, 4))\n",
    "    # display 20 images\n",
    "    for idx in np.arange(number_images):\n",
    "        ax = fig.add_subplot(2, number_images/2, idx+1, xticks=[], yticks=[])\n",
    "        img = np.transpose(images[idx])\n",
    "        plt.imshow(img)\n",
    "        ax.set_title(cat_to_name[labels.tolist()[idx]])"
   ]
  },
  {
   "cell_type": "code",
   "execution_count": null,
   "metadata": {},
   "outputs": [],
   "source": [
    "#### to show some  images\n",
    "showimage(data_loader['valid'],2,cat_to_name)"
   ]
  },
  {
   "cell_type": "code",
   "execution_count": null,
   "metadata": {},
   "outputs": [],
   "source": [
    "showimage(data_loader['valid'],2,cat_to_name)"
   ]
  },
  {
   "cell_type": "code",
   "execution_count": null,
   "metadata": {},
   "outputs": [],
   "source": [
    "showimage(data_loader['valid'],2,cat_to_name)"
   ]
  },
  {
   "cell_type": "code",
   "execution_count": null,
   "metadata": {},
   "outputs": [],
   "source": []
  },
  {
   "cell_type": "code",
   "execution_count": null,
   "metadata": {},
   "outputs": [],
   "source": []
  },
  {
   "cell_type": "code",
   "execution_count": null,
   "metadata": {},
   "outputs": [],
   "source": []
  },
  {
   "cell_type": "code",
   "execution_count": null,
   "metadata": {},
   "outputs": [],
   "source": []
  }
 ],
 "metadata": {
  "kernelspec": {
   "display_name": "Python 3",
   "language": "python",
   "name": "python3"
  },
  "language_info": {
   "codemirror_mode": {
    "name": "ipython",
    "version": 3
   },
   "file_extension": ".py",
   "mimetype": "text/x-python",
   "name": "python",
   "nbconvert_exporter": "python",
   "pygments_lexer": "ipython3",
   "version": "3.6.8"
  }
 },
 "nbformat": 4,
 "nbformat_minor": 2
}
