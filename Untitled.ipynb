{
 "cells": [
  {
   "cell_type": "code",
   "execution_count": 2,
   "metadata": {},
   "outputs": [],
   "source": [
    "import torchvision\n",
    "from torchvision import transforms,models,datasets\n",
    "import torch\n",
    "import numpy as np\n",
    "import matplotlib.pyplot as plt\n",
    "import torch.optim as optim\n",
    "import torch.nn as nn\n",
    "from collections import OrderedDict\n",
    "from PIL import Image\n",
    "import seaborn as sns"
   ]
  },
  {
   "cell_type": "code",
   "execution_count": 3,
   "metadata": {},
   "outputs": [],
   "source": [
    "data_dir = {\n",
    "            'train': 'D:/RollyAngell/Kaggle Competitions/chest_xray/test',\n",
    "            'test':  'D:/RollyAngell/Kaggle Competitions/chest_xray/test',\n",
    "            'valid': 'D:/RollyAngell/Kaggle Competitions/chest_xray/val',\n",
    "            }"
   ]
  },
  {
   "cell_type": "code",
   "execution_count": 4,
   "metadata": {},
   "outputs": [],
   "source": [
    "batch_size = 32\n",
    "#batch_size = 64\n",
    "\n",
    "data_transforms = {\n",
    "            'train': transforms.Compose([\n",
    "                        transforms.Resize((224, 224)),\n",
    "                        transforms.CenterCrop(224),\n",
    "                        transforms.RandomHorizontalFlip(), # randomly flip and rotate\n",
    "                        transforms.RandomRotation(10),\n",
    "                        transforms.ToTensor(),\n",
    "                        transforms.Normalize((0.485, 0.456, 0.406), (0.229, 0.224, 0.225)),\n",
    "                    ]),\n",
    "    \n",
    "            'test': transforms.Compose([\n",
    "                        transforms.Resize((224,224)),\n",
    "                        transforms.ToTensor(),\n",
    "                        transforms.Normalize((0.485, 0.456, 0.406), (0.229, 0.224, 0.225)),\n",
    "                    ]),\n",
    "    \n",
    "            'valid': transforms.Compose([\n",
    "                        transforms.Resize((224,224)),\n",
    "                        transforms.ToTensor(),\n",
    "                        transforms.Normalize((0.485, 0.456, 0.406), (0.229, 0.224, 0.225)),\n",
    "                    ])\n",
    "            }"
   ]
  },
  {
   "cell_type": "code",
   "execution_count": 5,
   "metadata": {},
   "outputs": [
    {
     "data": {
      "text/plain": [
       "{'train': Compose(\n",
       "     Resize(size=(224, 224), interpolation=PIL.Image.BILINEAR)\n",
       "     CenterCrop(size=(224, 224))\n",
       "     RandomHorizontalFlip(p=0.5)\n",
       "     RandomRotation(degrees=(-10, 10), resample=False, expand=False)\n",
       "     ToTensor()\n",
       "     Normalize(mean=(0.485, 0.456, 0.406), std=(0.229, 0.224, 0.225))\n",
       " ), 'test': Compose(\n",
       "     Resize(size=(224, 224), interpolation=PIL.Image.BILINEAR)\n",
       "     ToTensor()\n",
       "     Normalize(mean=(0.485, 0.456, 0.406), std=(0.229, 0.224, 0.225))\n",
       " ), 'valid': Compose(\n",
       "     Resize(size=(224, 224), interpolation=PIL.Image.BILINEAR)\n",
       "     ToTensor()\n",
       "     Normalize(mean=(0.485, 0.456, 0.406), std=(0.229, 0.224, 0.225))\n",
       " )}"
      ]
     },
     "execution_count": 5,
     "metadata": {},
     "output_type": "execute_result"
    }
   ],
   "source": [
    "data_transforms"
   ]
  },
  {
   "cell_type": "code",
   "execution_count": null,
   "metadata": {},
   "outputs": [],
   "source": [
    "data_set={\n",
    "        'train': torchvision.datasets.ImageFolder(data_dir['train'] ,data_transforms['train']),\n",
    "        'test': torchvision.datasets.ImageFolder(data_dir['test'], data_transforms['test']),\n",
    "        'valid': torchvision.datasets.ImageFolder(data_dir['valid'], data_transforms['valid']),\n",
    "         }"
   ]
  },
  {
   "cell_type": "code",
   "execution_count": null,
   "metadata": {},
   "outputs": [],
   "source": []
  },
  {
   "cell_type": "code",
   "execution_count": null,
   "metadata": {},
   "outputs": [],
   "source": []
  },
  {
   "cell_type": "code",
   "execution_count": null,
   "metadata": {},
   "outputs": [],
   "source": []
  },
  {
   "cell_type": "code",
   "execution_count": null,
   "metadata": {},
   "outputs": [],
   "source": []
  },
  {
   "cell_type": "code",
   "execution_count": null,
   "metadata": {},
   "outputs": [],
   "source": []
  }
 ],
 "metadata": {
  "kernelspec": {
   "display_name": "Python 3",
   "language": "python",
   "name": "python3"
  },
  "language_info": {
   "codemirror_mode": {
    "name": "ipython",
    "version": 3
   },
   "file_extension": ".py",
   "mimetype": "text/x-python",
   "name": "python",
   "nbconvert_exporter": "python",
   "pygments_lexer": "ipython3",
   "version": "3.6.8"
  }
 },
 "nbformat": 4,
 "nbformat_minor": 2
}
